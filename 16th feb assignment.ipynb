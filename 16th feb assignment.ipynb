{
 "cells": [
  {
   "cell_type": "code",
   "execution_count": 1,
   "id": "12179700-fbe5-4687-9169-6d571fb4f44a",
   "metadata": {},
   "outputs": [
    {
     "data": {
      "text/plain": [
       "'\\n---> A database is an organized collection of structured information, or data, typically stored electronically in a computer system.\\n\\n# SQL\\n\\n---> RELATIONAL DATABASE MANAGEMENT SYSTEM  \\n---> These databases have fixed or static or predefined schema\\n---> These databases are not suited for hierarchical data storage.\\n---> These databases are best suited for complex queries\\n---> Vertically Scalable\\n---> Follows ACID property\\n---> Examples: MySQL, PostgreSQL, Oracle, MS-SQL Server, etc\\n\\n#NOSQL\\n\\n---> Non-relational or distributed database system.\\n---> They have dynamic schema\\n---> These databases are best suited for hierarchical data storage.\\n---> These databases are not so good for complex queries\\n---> Horizontally scalable\\n---> Follows CAP(consistency, availability, partition tolerance)\\n---> Examples: MongoDB, GraphQL, HBase, Neo4j, Cassandra, etc\\n'"
      ]
     },
     "execution_count": 1,
     "metadata": {},
     "output_type": "execute_result"
    }
   ],
   "source": [
    "#1) What is a database? Differentiate between SQL and NoSQL databases.\n",
    "'''\n",
    "---> A database is an organized collection of structured information, or data, typically stored electronically in a computer system.\n",
    "\n",
    "# SQL\n",
    "\n",
    "---> RELATIONAL DATABASE MANAGEMENT SYSTEM  \n",
    "---> These databases have fixed or static or predefined schema\n",
    "---> These databases are not suited for hierarchical data storage.\n",
    "---> These databases are best suited for complex queries\n",
    "---> Vertically Scalable\n",
    "---> Follows ACID property\n",
    "---> Examples: MySQL, PostgreSQL, Oracle, MS-SQL Server, etc\n",
    "\n",
    "#NOSQL\n",
    "\n",
    "---> Non-relational or distributed database system.\n",
    "---> They have dynamic schema\n",
    "---> These databases are best suited for hierarchical data storage.\n",
    "---> These databases are not so good for complex queries\n",
    "---> Horizontally scalable\n",
    "---> Follows CAP(consistency, availability, partition tolerance)\n",
    "---> Examples: MongoDB, GraphQL, HBase, Neo4j, Cassandra, etc\n",
    "'''"
   ]
  },
  {
   "cell_type": "code",
   "execution_count": 2,
   "id": "cc4f3454-0491-4071-a8d4-c190c6a9ddbb",
   "metadata": {},
   "outputs": [
    {
     "data": {
      "text/plain": [
       "'\\n---> DDL consist of Commands to commands like CREATE, ALTER, TRUNCATE and DROP. These commands are used to create or modify the tables in SQL.\\n\\n#CREATE\\n---> This command is used to create a new table in SQL.\\nex:\\nCREATE TABLE table_name\\n(\\ncolumn_1 datatype,\\ncolumn_2 datatype,\\ncolumn_3 datatype,\\n....\\n);\\n\\n#DROP\\n---> This command is used to remove an existing table along with its structure from the Database.\\nex:\\nDROP TABLE table_name;\\n\\n#ALTER\\n---> This command is used to add, delete or change columns in the existing table.\\nex:\\nALTER TABLE table_name\\nADD column_name datatype;\\n\\n#TRUNCATE\\n---> This command is used to remove all rows from the table, but the structure of the table still exists.\\nex:\\nTRUNCATE TABLE table_name;\\n'"
      ]
     },
     "execution_count": 2,
     "metadata": {},
     "output_type": "execute_result"
    }
   ],
   "source": [
    "#2) What is DDL? Explain why CREATE, DROP, ALTER, and TRUNCATE are used with an example.\n",
    "'''\n",
    "---> DDL consist of Commands to commands like CREATE, ALTER, TRUNCATE and DROP. These commands are used to create or modify the tables in SQL.\n",
    "\n",
    "#CREATE\n",
    "---> This command is used to create a new table in SQL.\n",
    "ex:\n",
    "CREATE TABLE table_name\n",
    "(\n",
    "column_1 datatype,\n",
    "column_2 datatype,\n",
    "column_3 datatype,\n",
    "....\n",
    ");\n",
    "\n",
    "#DROP\n",
    "---> This command is used to remove an existing table along with its structure from the Database.\n",
    "ex:\n",
    "DROP TABLE table_name;\n",
    "\n",
    "#ALTER\n",
    "---> This command is used to add, delete or change columns in the existing table.\n",
    "ex:\n",
    "ALTER TABLE table_name\n",
    "ADD column_name datatype;\n",
    "\n",
    "#TRUNCATE\n",
    "---> This command is used to remove all rows from the table, but the structure of the table still exists.\n",
    "ex:\n",
    "TRUNCATE TABLE table_name;\n",
    "'''"
   ]
  },
  {
   "cell_type": "code",
   "execution_count": 3,
   "id": "c34f6134-946e-4743-8f6a-01f3b4a1537a",
   "metadata": {},
   "outputs": [
    {
     "data": {
      "text/plain": [
       "'\\n---> DML is the component of the SQL statement that controls access to data and to the database.\\n\\n#INSERT\\n---> It is used to insert data into a table.\\nex:\\nINSERT INTO table_name VALUES (value1, value2, value3,…);\\n\\n#UPDATE\\n---> The UPDATE statement in SQL is used to update the data of an existing table in database.\\nex:\\nUPDATE table_name SET column1 = value1, column2 = value2,... \\nWHERE condition;\\n\\n#DELETE\\n---> It is used to delete records from a database table.\\nex:\\nDELETE FROM table_name WHERE some_condition;\\n\\n'"
      ]
     },
     "execution_count": 3,
     "metadata": {},
     "output_type": "execute_result"
    }
   ],
   "source": [
    "#3) What is DML? Explain INSERT, UPDATE, and DELETE with an example.\n",
    "'''\n",
    "---> DML is the component of the SQL statement that controls access to data and to the database.\n",
    "\n",
    "#INSERT\n",
    "---> It is used to insert data into a table.\n",
    "ex:\n",
    "INSERT INTO table_name VALUES (value1, value2, value3,…);\n",
    "\n",
    "#UPDATE\n",
    "---> The UPDATE statement in SQL is used to update the data of an existing table in database.\n",
    "ex:\n",
    "UPDATE table_name SET column1 = value1, column2 = value2,... \n",
    "WHERE condition;\n",
    "\n",
    "#DELETE\n",
    "---> It is used to delete records from a database table.\n",
    "ex:\n",
    "DELETE FROM table_name WHERE some_condition;\n",
    "\n",
    "'''"
   ]
  },
  {
   "cell_type": "code",
   "execution_count": 4,
   "id": "4f91ba2b-6d03-46a9-b9c9-19c03fa16a1b",
   "metadata": {},
   "outputs": [
    {
     "data": {
      "text/plain": [
       "'\\n---> DQL statements are used for performing queries on the data within schema objects. \\n---> The purpose of the DQL Command is to get some schema relation based on the query passed to it.\\n\\nex:\\nSELECT ROLL_NO, NAME, AGE FROM Student;\\n'"
      ]
     },
     "execution_count": 4,
     "metadata": {},
     "output_type": "execute_result"
    }
   ],
   "source": [
    "#4) What is DQL? Explain SELECT with an example.\n",
    "'''\n",
    "---> DQL statements are used for performing queries on the data within schema objects. \n",
    "---> The purpose of the DQL Command is to get some schema relation based on the query passed to it.\n",
    "\n",
    "ex:\n",
    "SELECT ROLL_NO, NAME, AGE FROM Student;\n",
    "'''"
   ]
  },
  {
   "cell_type": "code",
   "execution_count": 5,
   "id": "12c21d58-07f5-49a4-93b8-753024fe3b16",
   "metadata": {},
   "outputs": [
    {
     "data": {
      "text/plain": [
       "'\\n#Primary Key\\n---> A primary key generally focuses on the uniqueness of the table. It assures the value in the specific column is unique. \\n---> A table can have only have one primary key.\\n\\n#Foreign Key\\n---> A foreign key is generally used to build a relationship between the two tables.\\n---> A table can have multiple foreign keys.\\n'"
      ]
     },
     "execution_count": 5,
     "metadata": {},
     "output_type": "execute_result"
    }
   ],
   "source": [
    "#5) Explain Primary Key and Foreign Key.\n",
    "'''\n",
    "#Primary Key\n",
    "---> A primary key generally focuses on the uniqueness of the table. It assures the value in the specific column is unique. \n",
    "---> A table can have only have one primary key.\n",
    "\n",
    "#Foreign Key\n",
    "---> A foreign key is generally used to build a relationship between the two tables.\n",
    "---> A table can have multiple foreign keys.\n",
    "'''"
   ]
  },
  {
   "cell_type": "code",
   "execution_count": 6,
   "id": "a238011f-2235-4457-8db2-27a0f7af92ca",
   "metadata": {},
   "outputs": [
    {
     "data": {
      "text/plain": [
       "'\\nimport mysql.connector\\nmydb = mysql.connector.connect(\\n  host=\"localhost\",\\n  user=\"abc\",\\n  password=\"password\"\\n)\\nmycursor = mydb.cursor()\\nmycursor.execute(\\'Create database if not exists test2\\')\\nmydb.close()\\n\\n#cursor()\\n--->cursor() returns a MySQLCursor() object, or a subclass of it depending on the passed arguments. \\n--->The returned object is a cursor.CursorBase instance.\\n\\n#execute()\\n--->execute() executes the given database operation (query or command). \\n\\n'"
      ]
     },
     "execution_count": 6,
     "metadata": {},
     "output_type": "execute_result"
    }
   ],
   "source": [
    "#6) Write a python code to connect MySQL to python. Explain the cursor() and execute() method.\n",
    "'''\n",
    "import mysql.connector\n",
    "mydb = mysql.connector.connect(\n",
    "  host=\"localhost\",\n",
    "  user=\"abc\",\n",
    "  password=\"password\"\n",
    ")\n",
    "mycursor = mydb.cursor()\n",
    "mycursor.execute('Create database if not exists test2')\n",
    "mydb.close()\n",
    "\n",
    "#cursor()\n",
    "--->cursor() returns a MySQLCursor() object, or a subclass of it depending on the passed arguments. \n",
    "--->The returned object is a cursor.CursorBase instance.\n",
    "\n",
    "#execute()\n",
    "--->execute() executes the given database operation (query or command). \n",
    "\n",
    "'''"
   ]
  },
  {
   "cell_type": "code",
   "execution_count": null,
   "id": "76059f97-6847-405d-aeec-d4bf51c17dd0",
   "metadata": {},
   "outputs": [],
   "source": [
    "#7) Give the order of execution of SQL clauses in an SQL query.\n",
    "'''\n"
   ]
  }
 ],
 "metadata": {
  "kernelspec": {
   "display_name": "Python 3 (ipykernel)",
   "language": "python",
   "name": "python3"
  },
  "language_info": {
   "codemirror_mode": {
    "name": "ipython",
    "version": 3
   },
   "file_extension": ".py",
   "mimetype": "text/x-python",
   "name": "python",
   "nbconvert_exporter": "python",
   "pygments_lexer": "ipython3",
   "version": "3.10.6"
  }
 },
 "nbformat": 4,
 "nbformat_minor": 5
}
